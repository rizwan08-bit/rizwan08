{
  "nbformat": 4,
  "nbformat_minor": 0,
  "metadata": {
    "colab": {
      "provenance": []
    },
    "kernelspec": {
      "name": "python3",
      "display_name": "Python 3"
    },
    "language_info": {
      "name": "python"
    }
  },
  "cells": [
    {
      "cell_type": "code",
      "execution_count": null,
      "metadata": {
        "id": "IOSasOlQ0syJ"
      },
      "outputs": [],
      "source": [
        "import numpy as np\n",
        "import tensorflow as tf\n",
        "from tensorflow.keras.preprocessing.text import Tokenizer\n",
        "from tensorflow.keras.preprocessing.sequence import pad_sequences\n",
        "from tensorflow.keras.models import Sequential\n",
        "from tensorflow.keras.layers import Embedding, SimpleRNN, Dense\n"
      ]
    },
    {
      "cell_type": "markdown",
      "source": [],
      "metadata": {
        "id": "IcUg2fNL3w2c"
      }
    },
    {
      "cell_type": "code",
      "source": [
        "dataset_path = \"/content/science_questions_answers.txt\"\n",
        "with open(dataset_path, \"r\", encoding=\"utf-8\") as file:\n",
        "    lines = file.readlines()"
      ],
      "metadata": {
        "id": "QwF4q5j10xI8"
      },
      "execution_count": null,
      "outputs": []
    },
    {
      "cell_type": "code",
      "source": [
        "questions = []\n",
        "answers = []\n",
        "for i in range(len(lines)):\n",
        "    if lines[i].startswith(\"Q:\"):\n",
        "        questions.append(lines[i].replace(\"Q:\", \"\").strip())\n",
        "    elif lines[i].startswith(\"A:\"):\n",
        "        answers.append(lines[i].replace(\"A:\", \"\").strip())"
      ],
      "metadata": {
        "id": "0Rm8K3Za1EV_"
      },
      "execution_count": null,
      "outputs": []
    },
    {
      "cell_type": "code",
      "source": [
        "tokenizer = Tokenizer()\n",
        "tokenizer.fit_on_texts(questions + answers)\n",
        "vocab_size = len(tokenizer.word_index) + 1"
      ],
      "metadata": {
        "id": "fl5VsFvD1Fx1"
      },
      "execution_count": null,
      "outputs": []
    },
    {
      "cell_type": "code",
      "source": [
        "question_sequences = tokenizer.texts_to_sequences(questions)\n",
        "answer_sequences = tokenizer.texts_to_sequences(answers)"
      ],
      "metadata": {
        "id": "Bw6tFbD71LmS"
      },
      "execution_count": null,
      "outputs": []
    },
    {
      "cell_type": "code",
      "source": [
        "max_length = max(max(len(seq) for seq in question_sequences), max(len(seq) for seq in answer_sequences))\n",
        "question_padded = pad_sequences(question_sequences, maxlen=max_length, padding='post')\n",
        "answer_padded = pad_sequences(answer_sequences, maxlen=max_length, padding='post')"
      ],
      "metadata": {
        "id": "vgjBLg2n1PbM"
      },
      "execution_count": null,
      "outputs": []
    },
    {
      "cell_type": "code",
      "source": [
        "answers_output = np.array([seq[-1] for seq in answer_padded])"
      ],
      "metadata": {
        "id": "AU4SBttK2mXe"
      },
      "execution_count": null,
      "outputs": []
    },
    {
      "cell_type": "code",
      "source": [
        "# Define the RNN model\n",
        "model = Sequential([\n",
        "    Embedding(vocab_size, 64, input_length=max_length),\n",
        "    SimpleRNN(128, return_sequences=True),\n",
        "    SimpleRNN(64),\n",
        "    Dense(64, activation='relu'),\n",
        "    Dense(vocab_size, activation='softmax')  # Output layer with softmax activation\n",
        "])\n",
        "\n",
        "# Compile the model\n",
        "model.compile(loss='sparse_categorical_crossentropy', optimizer='adam', metrics=['accuracy'])\n",
        "\n",
        "# Train the model\n",
        "model.fit(question_padded, answers_output, epochs=5, batch_size=4, verbose=1)"
      ],
      "metadata": {
        "colab": {
          "base_uri": "https://localhost:8080/"
        },
        "id": "gZIX1B1R9j9f",
        "outputId": "dc0716ea-4e7a-4475-9d9a-996902d61213"
      },
      "execution_count": null,
      "outputs": [
        {
          "output_type": "stream",
          "name": "stdout",
          "text": [
            "Epoch 1/5\n",
            "\u001b[1m23/23\u001b[0m \u001b[32m━━━━━━━━━━━━━━━━━━━━\u001b[0m\u001b[37m\u001b[0m \u001b[1m5s\u001b[0m 10ms/step - accuracy: 0.6199 - loss: 4.8967\n",
            "Epoch 2/5\n",
            "\u001b[1m23/23\u001b[0m \u001b[32m━━━━━━━━━━━━━━━━━━━━\u001b[0m\u001b[37m\u001b[0m \u001b[1m0s\u001b[0m 9ms/step - accuracy: 1.0000 - loss: 0.4565\n",
            "Epoch 3/5\n",
            "\u001b[1m23/23\u001b[0m \u001b[32m━━━━━━━━━━━━━━━━━━━━\u001b[0m\u001b[37m\u001b[0m \u001b[1m0s\u001b[0m 10ms/step - accuracy: 1.0000 - loss: 0.0067\n",
            "Epoch 4/5\n",
            "\u001b[1m23/23\u001b[0m \u001b[32m━━━━━━━━━━━━━━━━━━━━\u001b[0m\u001b[37m\u001b[0m \u001b[1m0s\u001b[0m 10ms/step - accuracy: 1.0000 - loss: 0.0028\n",
            "Epoch 5/5\n",
            "\u001b[1m23/23\u001b[0m \u001b[32m━━━━━━━━━━━━━━━━━━━━\u001b[0m\u001b[37m\u001b[0m \u001b[1m0s\u001b[0m 11ms/step - accuracy: 1.0000 - loss: 0.0022\n"
          ]
        },
        {
          "output_type": "execute_result",
          "data": {
            "text/plain": [
              "<keras.src.callbacks.history.History at 0x7d0fb8292050>"
            ]
          },
          "metadata": {},
          "execution_count": 33
        }
      ]
    },
    {
      "cell_type": "code",
      "source": [
        "def chat_response(text):\n",
        "    seq = tokenizer.texts_to_sequences([text])\n",
        "    seq_padded = pad_sequences(seq, maxlen=max_length, padding='post')\n",
        "    pred = model.predict(seq_padded, verbose=0)\n",
        "    predicted_index = np.argmax(pred, axis=1)[0]  # Get the highest probability word index\n",
        "    response_word = tokenizer.index_word.get(predicted_index, \"Sorry, I don't understand.\")\n",
        "    return response_word\n",
        "\n",
        "print(chat_response(\"hello\"))"
      ],
      "metadata": {
        "colab": {
          "base_uri": "https://localhost:8080/"
        },
        "id": "rMwQZpD5-lkd",
        "outputId": "d60c0142-f0b4-4302-9fd8-59b57633cf24"
      },
      "execution_count": null,
      "outputs": [
        {
          "output_type": "stream",
          "name": "stdout",
          "text": [
            "Sorry, I don't understand.\n"
          ]
        }
      ]
    },
    {
      "cell_type": "code",
      "source": [],
      "metadata": {
        "id": "uCGbrsJM_H1a"
      },
      "execution_count": null,
      "outputs": []
    }
  ]
}